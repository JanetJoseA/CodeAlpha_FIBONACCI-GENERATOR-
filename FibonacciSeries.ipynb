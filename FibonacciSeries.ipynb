{
  "nbformat": 4,
  "nbformat_minor": 0,
  "metadata": {
    "colab": {
      "provenance": []
    },
    "kernelspec": {
      "name": "python3",
      "display_name": "Python 3"
    },
    "language_info": {
      "name": "python"
    }
  },
  "cells": [
    {
      "cell_type": "code",
      "execution_count": 2,
      "metadata": {
        "colab": {
          "base_uri": "https://localhost:8080/"
        },
        "id": "Rn8OS2r0Op3P",
        "outputId": "57dcb84a-ebae-4c75-825f-3b2785d6f17b"
      },
      "outputs": [
        {
          "name": "stdout",
          "output_type": "stream",
          "text": [
            "FIBONACCI SERIES GENERATOR!!\n",
            "1.Generate series\n",
            "2.End Series\n",
            "Enter your choice:1\n",
            "\n",
            "Enter number of terms to be generated:6\n",
            "[0, 1, 1, 2, 3, 5]\n",
            "\n",
            "1.Generate series\n",
            "2.End Series\n",
            "Enter your choice:2\n"
          ]
        }
      ],
      "source": [
        "def fibonacciSeries(num):\n",
        "  fibo=[0,1]\n",
        "  for i in range(2,num):\n",
        "    term=fibo[-1]+fibo[-2]\n",
        "    fibo.append(term)\n",
        "  return fibo\n",
        "\n",
        "\n",
        "print(\"FIBONACCI SERIES GENERATOR!!\")\n",
        "ch=int(input(\"1.Generate series\\n2.End Series\\nEnter your choice:\"))\n",
        "while(ch!=2):\n",
        "  num=int(input(\"\\nEnter number of terms to be generated:\"))\n",
        "  f=fibonacciSeries(num)\n",
        "  print(f)\n",
        "  print()\n",
        "  ch=int(input(\"1.Generate series\\n2.End Series\\nEnter your choice:\"))\n"
      ]
    }
  ]
}